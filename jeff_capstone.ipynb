{
 "cells": [
  {
   "cell_type": "markdown",
   "metadata": {
    "collapsed": true,
    "slideshow": {
     "slide_type": "slide"
    }
   },
   "source": [
    "#The Data Incubator Capstone Project\n",
    "\n",
    "##Citibike Public Data Analysis\n",
    "\n",
    "Goal 1: Perform time series analysis on Citibike to determine optimal time(s) and location(s) to run annual membership promotions.   \n",
    "\n",
    "Goal 2: Use association rule mining (i.e. Market Basket Analysis) to explore interesting if-then relationships hidden in the data set. "
   ]
  }
 ],
 "metadata": {
  "celltoolbar": "Slideshow",
  "kernelspec": {
   "display_name": "Python 2",
   "language": "python",
   "name": "python2"
  },
  "language_info": {
   "codemirror_mode": {
    "name": "ipython",
    "version": 2
   },
   "file_extension": ".py",
   "mimetype": "text/x-python",
   "name": "python",
   "nbconvert_exporter": "python",
   "pygments_lexer": "ipython2",
   "version": "2.7.11"
  }
 },
 "nbformat": 4,
 "nbformat_minor": 0
}
